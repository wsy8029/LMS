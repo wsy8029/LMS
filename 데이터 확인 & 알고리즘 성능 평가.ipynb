{
 "cells": [
  {
   "cell_type": "markdown",
   "metadata": {},
   "source": [
    "# 데이터 확인\n",
    "### 10차시 이상 사용한 학생 데이터 확인"
   ]
  },
  {
   "cell_type": "code",
   "execution_count": 45,
   "metadata": {},
   "outputs": [],
   "source": [
    "import pandas as pd\n",
    "import numpy as np\n",
    "from sklearn.model_selection import train_test_split"
   ]
  },
  {
   "cell_type": "code",
   "execution_count": 4,
   "metadata": {},
   "outputs": [],
   "source": [
    "data = pd.read_csv(\"data.csv\")"
   ]
  },
  {
   "cell_type": "code",
   "execution_count": 5,
   "metadata": {},
   "outputs": [
    {
     "data": {
      "text/plain": [
       "(330, 32)"
      ]
     },
     "execution_count": 5,
     "metadata": {},
     "output_type": "execute_result"
    }
   ],
   "source": [
    "data.shape"
   ]
  },
  {
   "cell_type": "code",
   "execution_count": 6,
   "metadata": {},
   "outputs": [
    {
     "data": {
      "text/html": [
       "<div>\n",
       "<style scoped>\n",
       "    .dataframe tbody tr th:only-of-type {\n",
       "        vertical-align: middle;\n",
       "    }\n",
       "\n",
       "    .dataframe tbody tr th {\n",
       "        vertical-align: top;\n",
       "    }\n",
       "\n",
       "    .dataframe thead th {\n",
       "        text-align: right;\n",
       "    }\n",
       "</style>\n",
       "<table border=\"1\" class=\"dataframe\">\n",
       "  <thead>\n",
       "    <tr style=\"text-align: right;\">\n",
       "      <th></th>\n",
       "      <th>Unnamed: 0</th>\n",
       "      <th>UserID</th>\n",
       "      <th>Sco001</th>\n",
       "      <th>Con001</th>\n",
       "      <th>Pas001</th>\n",
       "      <th>Sco002</th>\n",
       "      <th>Con002</th>\n",
       "      <th>Pas002</th>\n",
       "      <th>Sco003</th>\n",
       "      <th>Con003</th>\n",
       "      <th>...</th>\n",
       "      <th>Pas007</th>\n",
       "      <th>Sco008</th>\n",
       "      <th>Con008</th>\n",
       "      <th>Pas008</th>\n",
       "      <th>Sco009</th>\n",
       "      <th>Con009</th>\n",
       "      <th>Pas009</th>\n",
       "      <th>Sco010</th>\n",
       "      <th>Con010</th>\n",
       "      <th>Pas010</th>\n",
       "    </tr>\n",
       "  </thead>\n",
       "  <tbody>\n",
       "    <tr>\n",
       "      <th>0</th>\n",
       "      <td>217</td>\n",
       "      <td>210214</td>\n",
       "      <td>63</td>\n",
       "      <td>40</td>\n",
       "      <td>66</td>\n",
       "      <td>59</td>\n",
       "      <td>38</td>\n",
       "      <td>58</td>\n",
       "      <td>51</td>\n",
       "      <td>56</td>\n",
       "      <td>...</td>\n",
       "      <td>55</td>\n",
       "      <td>54</td>\n",
       "      <td>56</td>\n",
       "      <td>62</td>\n",
       "      <td>58</td>\n",
       "      <td>37</td>\n",
       "      <td>56</td>\n",
       "      <td>50</td>\n",
       "      <td>50</td>\n",
       "      <td>51</td>\n",
       "    </tr>\n",
       "    <tr>\n",
       "      <th>1</th>\n",
       "      <td>69</td>\n",
       "      <td>210271</td>\n",
       "      <td>89</td>\n",
       "      <td>21</td>\n",
       "      <td>96</td>\n",
       "      <td>91</td>\n",
       "      <td>16</td>\n",
       "      <td>96</td>\n",
       "      <td>85</td>\n",
       "      <td>10</td>\n",
       "      <td>...</td>\n",
       "      <td>85</td>\n",
       "      <td>88</td>\n",
       "      <td>10</td>\n",
       "      <td>88</td>\n",
       "      <td>82</td>\n",
       "      <td>15</td>\n",
       "      <td>80</td>\n",
       "      <td>82</td>\n",
       "      <td>20</td>\n",
       "      <td>84</td>\n",
       "    </tr>\n",
       "    <tr>\n",
       "      <th>2</th>\n",
       "      <td>263</td>\n",
       "      <td>210150</td>\n",
       "      <td>18</td>\n",
       "      <td>82</td>\n",
       "      <td>19</td>\n",
       "      <td>8</td>\n",
       "      <td>99</td>\n",
       "      <td>13</td>\n",
       "      <td>14</td>\n",
       "      <td>69</td>\n",
       "      <td>...</td>\n",
       "      <td>21</td>\n",
       "      <td>36</td>\n",
       "      <td>52</td>\n",
       "      <td>28</td>\n",
       "      <td>18</td>\n",
       "      <td>70</td>\n",
       "      <td>11</td>\n",
       "      <td>25</td>\n",
       "      <td>64</td>\n",
       "      <td>18</td>\n",
       "    </tr>\n",
       "    <tr>\n",
       "      <th>3</th>\n",
       "      <td>14</td>\n",
       "      <td>210066</td>\n",
       "      <td>75</td>\n",
       "      <td>37</td>\n",
       "      <td>84</td>\n",
       "      <td>84</td>\n",
       "      <td>38</td>\n",
       "      <td>100</td>\n",
       "      <td>77</td>\n",
       "      <td>27</td>\n",
       "      <td>...</td>\n",
       "      <td>97</td>\n",
       "      <td>79</td>\n",
       "      <td>35</td>\n",
       "      <td>89</td>\n",
       "      <td>79</td>\n",
       "      <td>25</td>\n",
       "      <td>82</td>\n",
       "      <td>95</td>\n",
       "      <td>11</td>\n",
       "      <td>100</td>\n",
       "    </tr>\n",
       "    <tr>\n",
       "      <th>4</th>\n",
       "      <td>18</td>\n",
       "      <td>210274</td>\n",
       "      <td>88</td>\n",
       "      <td>22</td>\n",
       "      <td>96</td>\n",
       "      <td>91</td>\n",
       "      <td>18</td>\n",
       "      <td>97</td>\n",
       "      <td>82</td>\n",
       "      <td>28</td>\n",
       "      <td>...</td>\n",
       "      <td>96</td>\n",
       "      <td>76</td>\n",
       "      <td>37</td>\n",
       "      <td>86</td>\n",
       "      <td>86</td>\n",
       "      <td>30</td>\n",
       "      <td>98</td>\n",
       "      <td>77</td>\n",
       "      <td>33</td>\n",
       "      <td>84</td>\n",
       "    </tr>\n",
       "    <tr>\n",
       "      <th>...</th>\n",
       "      <td>...</td>\n",
       "      <td>...</td>\n",
       "      <td>...</td>\n",
       "      <td>...</td>\n",
       "      <td>...</td>\n",
       "      <td>...</td>\n",
       "      <td>...</td>\n",
       "      <td>...</td>\n",
       "      <td>...</td>\n",
       "      <td>...</td>\n",
       "      <td>...</td>\n",
       "      <td>...</td>\n",
       "      <td>...</td>\n",
       "      <td>...</td>\n",
       "      <td>...</td>\n",
       "      <td>...</td>\n",
       "      <td>...</td>\n",
       "      <td>...</td>\n",
       "      <td>...</td>\n",
       "      <td>...</td>\n",
       "      <td>...</td>\n",
       "    </tr>\n",
       "    <tr>\n",
       "      <th>325</th>\n",
       "      <td>308</td>\n",
       "      <td>210063</td>\n",
       "      <td>26</td>\n",
       "      <td>91</td>\n",
       "      <td>38</td>\n",
       "      <td>30</td>\n",
       "      <td>59</td>\n",
       "      <td>23</td>\n",
       "      <td>26</td>\n",
       "      <td>74</td>\n",
       "      <td>...</td>\n",
       "      <td>31</td>\n",
       "      <td>27</td>\n",
       "      <td>63</td>\n",
       "      <td>21</td>\n",
       "      <td>38</td>\n",
       "      <td>74</td>\n",
       "      <td>46</td>\n",
       "      <td>3</td>\n",
       "      <td>95</td>\n",
       "      <td>3</td>\n",
       "    </tr>\n",
       "    <tr>\n",
       "      <th>326</th>\n",
       "      <td>87</td>\n",
       "      <td>210009</td>\n",
       "      <td>83</td>\n",
       "      <td>19</td>\n",
       "      <td>85</td>\n",
       "      <td>75</td>\n",
       "      <td>36</td>\n",
       "      <td>83</td>\n",
       "      <td>79</td>\n",
       "      <td>37</td>\n",
       "      <td>...</td>\n",
       "      <td>92</td>\n",
       "      <td>91</td>\n",
       "      <td>16</td>\n",
       "      <td>97</td>\n",
       "      <td>87</td>\n",
       "      <td>12</td>\n",
       "      <td>87</td>\n",
       "      <td>80</td>\n",
       "      <td>30</td>\n",
       "      <td>87</td>\n",
       "    </tr>\n",
       "    <tr>\n",
       "      <th>327</th>\n",
       "      <td>250</td>\n",
       "      <td>210314</td>\n",
       "      <td>17</td>\n",
       "      <td>77</td>\n",
       "      <td>14</td>\n",
       "      <td>27</td>\n",
       "      <td>72</td>\n",
       "      <td>27</td>\n",
       "      <td>22</td>\n",
       "      <td>78</td>\n",
       "      <td>...</td>\n",
       "      <td>25</td>\n",
       "      <td>27</td>\n",
       "      <td>90</td>\n",
       "      <td>39</td>\n",
       "      <td>37</td>\n",
       "      <td>55</td>\n",
       "      <td>32</td>\n",
       "      <td>28</td>\n",
       "      <td>50</td>\n",
       "      <td>14</td>\n",
       "    </tr>\n",
       "    <tr>\n",
       "      <th>328</th>\n",
       "      <td>23</td>\n",
       "      <td>210163</td>\n",
       "      <td>82</td>\n",
       "      <td>33</td>\n",
       "      <td>92</td>\n",
       "      <td>79</td>\n",
       "      <td>26</td>\n",
       "      <td>83</td>\n",
       "      <td>84</td>\n",
       "      <td>11</td>\n",
       "      <td>...</td>\n",
       "      <td>83</td>\n",
       "      <td>86</td>\n",
       "      <td>29</td>\n",
       "      <td>96</td>\n",
       "      <td>92</td>\n",
       "      <td>11</td>\n",
       "      <td>95</td>\n",
       "      <td>75</td>\n",
       "      <td>32</td>\n",
       "      <td>81</td>\n",
       "    </tr>\n",
       "    <tr>\n",
       "      <th>329</th>\n",
       "      <td>168</td>\n",
       "      <td>210271</td>\n",
       "      <td>64</td>\n",
       "      <td>58</td>\n",
       "      <td>80</td>\n",
       "      <td>63</td>\n",
       "      <td>58</td>\n",
       "      <td>78</td>\n",
       "      <td>50</td>\n",
       "      <td>60</td>\n",
       "      <td>...</td>\n",
       "      <td>76</td>\n",
       "      <td>60</td>\n",
       "      <td>60</td>\n",
       "      <td>74</td>\n",
       "      <td>60</td>\n",
       "      <td>60</td>\n",
       "      <td>74</td>\n",
       "      <td>56</td>\n",
       "      <td>35</td>\n",
       "      <td>50</td>\n",
       "    </tr>\n",
       "  </tbody>\n",
       "</table>\n",
       "<p>330 rows × 32 columns</p>\n",
       "</div>"
      ],
      "text/plain": [
       "     Unnamed: 0  UserID  Sco001  Con001  Pas001  Sco002  Con002  Pas002  \\\n",
       "0           217  210214      63      40      66      59      38      58   \n",
       "1            69  210271      89      21      96      91      16      96   \n",
       "2           263  210150      18      82      19       8      99      13   \n",
       "3            14  210066      75      37      84      84      38     100   \n",
       "4            18  210274      88      22      96      91      18      97   \n",
       "..          ...     ...     ...     ...     ...     ...     ...     ...   \n",
       "325         308  210063      26      91      38      30      59      23   \n",
       "326          87  210009      83      19      85      75      36      83   \n",
       "327         250  210314      17      77      14      27      72      27   \n",
       "328          23  210163      82      33      92      79      26      83   \n",
       "329         168  210271      64      58      80      63      58      78   \n",
       "\n",
       "     Sco003  Con003  ...  Pas007  Sco008  Con008  Pas008  Sco009  Con009  \\\n",
       "0        51      56  ...      55      54      56      62      58      37   \n",
       "1        85      10  ...      85      88      10      88      82      15   \n",
       "2        14      69  ...      21      36      52      28      18      70   \n",
       "3        77      27  ...      97      79      35      89      79      25   \n",
       "4        82      28  ...      96      76      37      86      86      30   \n",
       "..      ...     ...  ...     ...     ...     ...     ...     ...     ...   \n",
       "325      26      74  ...      31      27      63      21      38      74   \n",
       "326      79      37  ...      92      91      16      97      87      12   \n",
       "327      22      78  ...      25      27      90      39      37      55   \n",
       "328      84      11  ...      83      86      29      96      92      11   \n",
       "329      50      60  ...      76      60      60      74      60      60   \n",
       "\n",
       "     Pas009  Sco010  Con010  Pas010  \n",
       "0        56      50      50      51  \n",
       "1        80      82      20      84  \n",
       "2        11      25      64      18  \n",
       "3        82      95      11     100  \n",
       "4        98      77      33      84  \n",
       "..      ...     ...     ...     ...  \n",
       "325      46       3      95       3  \n",
       "326      87      80      30      87  \n",
       "327      32      28      50      14  \n",
       "328      95      75      32      81  \n",
       "329      74      56      35      50  \n",
       "\n",
       "[330 rows x 32 columns]"
      ]
     },
     "execution_count": 6,
     "metadata": {},
     "output_type": "execute_result"
    }
   ],
   "source": [
    "data"
   ]
  },
  {
   "cell_type": "markdown",
   "metadata": {},
   "source": [
    "## 데이터 분할\n",
    "### train data, test data 90:10 으로 분할"
   ]
  },
  {
   "cell_type": "code",
   "execution_count": 2,
   "metadata": {},
   "outputs": [],
   "source": [
    "\n"
   ]
  },
  {
   "cell_type": "markdown",
   "metadata": {},
   "source": [
    "# 알고리즘 성능 평가\n",
    "- 테스트 환경: 데이터베이스에 저장된 누적 학생 데이터(300명 이상)를 바탕으로 4종 이상의 머신러닝, 딥러닝 알고리즘 적용\n",
    "- 테스트 시나리오: 90% training data set, 10% testing data set으로 분류하여 90% data로 학습 평가(학습 성취도, 집중도, 통과 유무 중 1개 이상)에 대한 알고리즘 테스트 진행(binary test 경우 정확도 75% 이상, 정확도의 경우 오차범위 40% 이내 정확도를 기대)\n",
    "## 1. 학습 성취도(종합 점수) 평가(예측) 모델\n",
    "#### 데이터 분할 (train:test = 90:10)"
   ]
  },
  {
   "cell_type": "code",
   "execution_count": 108,
   "metadata": {},
   "outputs": [
    {
     "name": "stdout",
     "output_type": "stream",
     "text": [
      "train_data_x :  297\n",
      "test_data_x :  33\n",
      "train_data_y :  297\n",
      "test_data_y :  33\n"
     ]
    }
   ],
   "source": [
    "# train data : test data = 90 : 10\n",
    "x = data.loc[:,'Con001':'Pas001']\n",
    "y = data['Sco001']\n",
    "\n",
    "x_train, x_test, y_train, y_test = train_test_split(x, y, test_size=0.1, random_state=0)\n",
    "print(\"train_data_x : \", len(x_train))\n",
    "print(\"test_data_x : \", len(x_test))\n",
    "print(\"train_data_y : \", len(y_train))\n",
    "print(\"test_data_y : \", len(y_test))\n"
   ]
  },
  {
   "cell_type": "markdown",
   "metadata": {},
   "source": [
    "#### 학습성취도 예측용 머신러닝 모델 학습( Logistic Regression 알고리즘 적용) "
   ]
  },
  {
   "cell_type": "code",
   "execution_count": 109,
   "metadata": {},
   "outputs": [
    {
     "name": "stderr",
     "output_type": "stream",
     "text": [
      "/Users/peter/opt/anaconda3/lib/python3.7/site-packages/sklearn/linear_model/_logistic.py:940: ConvergenceWarning: lbfgs failed to converge (status=1):\n",
      "STOP: TOTAL NO. of ITERATIONS REACHED LIMIT.\n",
      "\n",
      "Increase the number of iterations (max_iter) or scale the data as shown in:\n",
      "    https://scikit-learn.org/stable/modules/preprocessing.html\n",
      "Please also refer to the documentation for alternative solver options:\n",
      "    https://scikit-learn.org/stable/modules/linear_model.html#logistic-regression\n",
      "  extra_warning_msg=_LOGISTIC_SOLVER_CONVERGENCE_MSG)\n"
     ]
    },
    {
     "data": {
      "text/plain": [
       "LogisticRegression(C=1.0, class_weight=None, dual=False, fit_intercept=True,\n",
       "                   intercept_scaling=1, l1_ratio=None, max_iter=100,\n",
       "                   multi_class='auto', n_jobs=None, penalty='l2',\n",
       "                   random_state=None, solver='lbfgs', tol=0.0001, verbose=0,\n",
       "                   warm_start=False)"
      ]
     },
     "execution_count": 109,
     "metadata": {},
     "output_type": "execute_result"
    }
   ],
   "source": [
    "from sklearn.linear_model import LogisticRegression\n",
    "model_predict_score = LogisticRegression()\n",
    "model_predict_score.fit(x_train, y_train)"
   ]
  },
  {
   "cell_type": "markdown",
   "metadata": {},
   "source": [
    "#### Score 예측 및 평균 정확도 평가"
   ]
  },
  {
   "cell_type": "code",
   "execution_count": 110,
   "metadata": {},
   "outputs": [
    {
     "name": "stdout",
     "output_type": "stream",
     "text": [
      "실제 Score :  79 예측 Score :  81 오차 :  -2\n",
      "실제 Score :  81 예측 Score :  81 오차 :  0\n",
      "실제 Score :  60 예측 Score :  59 오차 :  1\n",
      "실제 Score :  31 예측 Score :  28 오차 :  3\n",
      "실제 Score :  87 예측 Score :  87 오차 :  0\n",
      "실제 Score :  88 예측 Score :  83 오차 :  5\n",
      "실제 Score :  27 예측 Score :  28 오차 :  -1\n",
      "실제 Score :  26 예측 Score :  26 오차 :  0\n",
      "실제 Score :  82 예측 Score :  83 오차 :  -1\n",
      "실제 Score :  51 예측 Score :  53 오차 :  -2\n",
      "실제 Score :  54 예측 Score :  53 오차 :  1\n",
      "실제 Score :  65 예측 Score :  70 오차 :  -5\n",
      "실제 Score :  75 예측 Score :  70 오차 :  5\n",
      "실제 Score :  50 예측 Score :  53 오차 :  -3\n",
      "실제 Score :  45 예측 Score :  50 오차 :  -5\n",
      "실제 Score :  10 예측 Score :  13 오차 :  -3\n",
      "실제 Score :  80 예측 Score :  81 오차 :  -1\n",
      "실제 Score :  26 예측 Score :  22 오차 :  4\n",
      "실제 Score :  72 예측 Score :  70 오차 :  2\n",
      "실제 Score :  75 예측 Score :  81 오차 :  -6\n",
      "실제 Score :  55 예측 Score :  53 오차 :  2\n",
      "실제 Score :  68 예측 Score :  64 오차 :  4\n",
      "실제 Score :  21 예측 Score :  22 오차 :  -1\n",
      "실제 Score :  35 예측 Score :  36 오차 :  -1\n",
      "실제 Score :  40 예측 Score :  42 오차 :  -2\n",
      "실제 Score :  33 예측 Score :  28 오차 :  5\n",
      "실제 Score :  53 예측 Score :  53 오차 :  0\n",
      "실제 Score :  70 예측 Score :  70 오차 :  0\n",
      "실제 Score :  79 예측 Score :  83 오차 :  -4\n",
      "실제 Score :  33 예측 Score :  28 오차 :  5\n",
      "실제 Score :  24 예측 Score :  26 오차 :  -2\n",
      "실제 Score :  35 예측 Score :  33 오차 :  2\n",
      "실제 Score :  22 예측 Score :  22 오차 :  0\n",
      "학습 성취도 예측 평균 정확도 :  94.22 %\n"
     ]
    }
   ],
   "source": [
    "y_test = y_test.tolist()\n",
    "y_predicted = model_predict_score.predict(x_test)\n",
    "\n",
    "accuracy = []\n",
    "for i in range(len(y_predicted)):\n",
    "    diff = abs(y_test[i] - y_predicted[i]) # 실제 값과 예측값 차이의 절대값\n",
    "    accuracy.append(100 - (diff / y_test[i] * 100)) # 정확도 계산 및 리스트 저장\n",
    "    print(\"실제 Score : \", y_test[i], \"예측 Score : \", y_predicted[i], \"오차 : \", y_test[i] - y_predicted[i])\n",
    "\n",
    "# 평균 정확도 계산\n",
    "acc_mean = np.mean(accuracy)\n",
    "print(\"학습 성취도 예측 평균 정확도 : \" , round(acc_mean,2), \"%\")"
   ]
  },
  {
   "cell_type": "markdown",
   "metadata": {},
   "source": [
    "## 2. 집중도(소요시간) 평가(예측) 모델\n",
    "\n",
    "#### 데이터 분할 (train:test = 90:10)"
   ]
  },
  {
   "cell_type": "code",
   "execution_count": 111,
   "metadata": {},
   "outputs": [
    {
     "name": "stdout",
     "output_type": "stream",
     "text": [
      "train_data_x :  297\n",
      "test_data_x :  33\n",
      "train_data_y :  297\n",
      "test_data_y :  33\n"
     ]
    }
   ],
   "source": [
    "# train data : test data = 90 : 10\n",
    "x = data[['Sco001','Pas001']]\n",
    "y = data['Con001']\n",
    "\n",
    "x_train, x_test, y_train, y_test = train_test_split(x, y, test_size=0.1, random_state=0)\n",
    "print(\"train_data_x : \", len(x_train))\n",
    "print(\"test_data_x : \", len(x_test))\n",
    "print(\"train_data_y : \", len(y_train))\n",
    "print(\"test_data_y : \", len(y_test))"
   ]
  },
  {
   "cell_type": "markdown",
   "metadata": {},
   "source": [
    "#### 집중도 예측용 머신러닝 모델 학습( Logistic Regression 알고리즘 적용) "
   ]
  },
  {
   "cell_type": "code",
   "execution_count": 112,
   "metadata": {
    "scrolled": true
   },
   "outputs": [
    {
     "name": "stderr",
     "output_type": "stream",
     "text": [
      "/Users/peter/opt/anaconda3/lib/python3.7/site-packages/sklearn/linear_model/_logistic.py:940: ConvergenceWarning: lbfgs failed to converge (status=1):\n",
      "STOP: TOTAL NO. of ITERATIONS REACHED LIMIT.\n",
      "\n",
      "Increase the number of iterations (max_iter) or scale the data as shown in:\n",
      "    https://scikit-learn.org/stable/modules/preprocessing.html\n",
      "Please also refer to the documentation for alternative solver options:\n",
      "    https://scikit-learn.org/stable/modules/linear_model.html#logistic-regression\n",
      "  extra_warning_msg=_LOGISTIC_SOLVER_CONVERGENCE_MSG)\n"
     ]
    },
    {
     "data": {
      "text/plain": [
       "LogisticRegression(C=1.0, class_weight=None, dual=False, fit_intercept=True,\n",
       "                   intercept_scaling=1, l1_ratio=None, max_iter=100,\n",
       "                   multi_class='auto', n_jobs=None, penalty='l2',\n",
       "                   random_state=None, solver='lbfgs', tol=0.0001, verbose=0,\n",
       "                   warm_start=False)"
      ]
     },
     "execution_count": 112,
     "metadata": {},
     "output_type": "execute_result"
    }
   ],
   "source": [
    "from sklearn.linear_model import LogisticRegression\n",
    "model_predict_time = LogisticRegression()\n",
    "model_predict_time.fit(x_train, y_train)"
   ]
  },
  {
   "cell_type": "markdown",
   "metadata": {},
   "source": [
    "#### Time 예측 및 정확도 평가"
   ]
  },
  {
   "cell_type": "code",
   "execution_count": 113,
   "metadata": {
    "scrolled": true
   },
   "outputs": [
    {
     "name": "stdout",
     "output_type": "stream",
     "text": [
      "실제 Time :  34 예측 Time :  33 오차 :  1\n",
      "실제 Time :  31 예측 Time :  33 오차 :  -2\n",
      "실제 Time :  50 예측 Time :  39 오차 :  11\n",
      "실제 Time :  72 예측 Time :  33 오차 :  39\n",
      "실제 Time :  23 예측 Time :  33 오차 :  -10\n",
      "실제 Time :  27 예측 Time :  39 오차 :  -12\n",
      "실제 Time :  92 예측 Time :  95 오차 :  -3\n",
      "실제 Time :  90 예측 Time :  83 오차 :  7\n",
      "실제 Time :  27 예측 Time :  33 오차 :  -6\n",
      "실제 Time :  59 예측 Time :  58 오차 :  1\n",
      "실제 Time :  54 예측 Time :  33 오차 :  21\n",
      "실제 Time :  33 예측 Time :  12 오차 :  21\n",
      "실제 Time :  40 예측 Time :  39 오차 :  1\n",
      "실제 Time :  48 예측 Time :  12 오차 :  36\n",
      "실제 Time :  53 예측 Time :  12 오차 :  41\n",
      "실제 Time :  90 예측 Time :  57 오차 :  33\n",
      "실제 Time :  30 예측 Time :  33 오차 :  -3\n",
      "실제 Time :  52 예측 Time :  50 오차 :  2\n",
      "실제 Time :  38 예측 Time :  33 오차 :  5\n",
      "실제 Time :  32 예측 Time :  33 오차 :  -1\n",
      "실제 Time :  55 예측 Time :  39 오차 :  16\n",
      "실제 Time :  42 예측 Time :  33 오차 :  9\n",
      "실제 Time :  64 예측 Time :  50 오차 :  14\n",
      "실제 Time :  75 예측 Time :  59 오차 :  16\n",
      "실제 Time :  52 예측 Time :  12 오차 :  40\n",
      "실제 Time :  70 예측 Time :  33 오차 :  37\n",
      "실제 Time :  48 예측 Time :  33 오차 :  15\n",
      "실제 Time :  31 예측 Time :  33 오차 :  -2\n",
      "실제 Time :  26 예측 Time :  33 오차 :  -7\n",
      "실제 Time :  69 예측 Time :  33 오차 :  36\n",
      "실제 Time :  99 예측 Time :  95 오차 :  4\n",
      "실제 Time :  71 예측 Time :  58 오차 :  13\n",
      "실제 Time :  79 예측 Time :  51 오차 :  28\n",
      "집중도 예측 평균 정확도 :  71.8 %\n"
     ]
    }
   ],
   "source": [
    "y_test = y_test.tolist()\n",
    "y_predicted = model_predict_time.predict(x_test)\n",
    "\n",
    "accuracy = []\n",
    "for i in range(len(y_predicted)):\n",
    "    diff = abs(y_test[i] - y_predicted[i]) # 실제 값과 예측값 차이의 절대값\n",
    "    accuracy.append(100 - (diff / y_test[i] * 100)) # 정확도 계산 및 리스트 저장\n",
    "    print(\"실제 Time : \", y_test[i], \"예측 Time : \", y_predicted[i], \"오차 : \", y_test[i] - y_predicted[i])\n",
    "\n",
    "# 평균 정확도 계산\n",
    "acc_mean = np.mean(accuracy)\n",
    "print(\"집중도 예측 평균 정확도 : \" , round(acc_mean,2), \"%\")"
   ]
  },
  {
   "cell_type": "markdown",
   "metadata": {},
   "source": [
    "## 3. 통과 유무(TC 통과율) 평가(예측) 모델\n",
    "#### 데이터 분할 (train:test = 90:10)"
   ]
  },
  {
   "cell_type": "code",
   "execution_count": 115,
   "metadata": {},
   "outputs": [
    {
     "name": "stdout",
     "output_type": "stream",
     "text": [
      "train_data_x :  297\n",
      "test_data_x :  33\n",
      "train_data_y :  297\n",
      "test_data_y :  33\n"
     ]
    }
   ],
   "source": [
    "# train data : test data = 90 : 10\n",
    "x = data[['Sco001','Con001']]\n",
    "y = data['Pas001']\n",
    "\n",
    "x_train, x_test, y_train, y_test = train_test_split(x, y, test_size=0.1, random_state=0)\n",
    "print(\"train_data_x : \", len(x_train))\n",
    "print(\"test_data_x : \", len(x_test))\n",
    "print(\"train_data_y : \", len(y_train))\n",
    "print(\"test_data_y : \", len(y_test))"
   ]
  },
  {
   "cell_type": "markdown",
   "metadata": {},
   "source": [
    "#### 통과 유무 예측용 머신러닝 모델 학습( Logistic Regression 알고리즘 적용) "
   ]
  },
  {
   "cell_type": "code",
   "execution_count": 116,
   "metadata": {},
   "outputs": [
    {
     "name": "stderr",
     "output_type": "stream",
     "text": [
      "/Users/peter/opt/anaconda3/lib/python3.7/site-packages/sklearn/linear_model/_logistic.py:940: ConvergenceWarning: lbfgs failed to converge (status=1):\n",
      "STOP: TOTAL NO. of ITERATIONS REACHED LIMIT.\n",
      "\n",
      "Increase the number of iterations (max_iter) or scale the data as shown in:\n",
      "    https://scikit-learn.org/stable/modules/preprocessing.html\n",
      "Please also refer to the documentation for alternative solver options:\n",
      "    https://scikit-learn.org/stable/modules/linear_model.html#logistic-regression\n",
      "  extra_warning_msg=_LOGISTIC_SOLVER_CONVERGENCE_MSG)\n"
     ]
    },
    {
     "data": {
      "text/plain": [
       "LogisticRegression(C=1.0, class_weight=None, dual=False, fit_intercept=True,\n",
       "                   intercept_scaling=1, l1_ratio=None, max_iter=100,\n",
       "                   multi_class='auto', n_jobs=None, penalty='l2',\n",
       "                   random_state=None, solver='lbfgs', tol=0.0001, verbose=0,\n",
       "                   warm_start=False)"
      ]
     },
     "execution_count": 116,
     "metadata": {},
     "output_type": "execute_result"
    }
   ],
   "source": [
    "from sklearn.linear_model import LogisticRegression\n",
    "model_predict_passrate = LogisticRegression()\n",
    "model_predict_passrate.fit(x_train, y_train)"
   ]
  },
  {
   "cell_type": "markdown",
   "metadata": {},
   "source": [
    "#### PassRate 예측 및 정확도 평가"
   ]
  },
  {
   "cell_type": "code",
   "execution_count": 117,
   "metadata": {},
   "outputs": [
    {
     "name": "stdout",
     "output_type": "stream",
     "text": [
      "실제 Passrate :  88 예측 Passrate :  80 오차 :  8\n",
      "실제 Passrate :  89 예측 Passrate :  96 오차 :  -7\n",
      "실제 Passrate :  67 예측 Passrate :  59 오차 :  8\n",
      "실제 Passrate :  34 예측 Passrate :  49 오차 :  -15\n",
      "실제 Passrate :  94 예측 Passrate :  96 오차 :  -2\n",
      "실제 Passrate :  99 예측 Passrate :  96 오차 :  3\n",
      "실제 Passrate :  41 예측 Passrate :  13 오차 :  28\n",
      "실제 Passrate :  37 예측 Passrate :  13 오차 :  24\n",
      "실제 Passrate :  88 예측 Passrate :  96 오차 :  -8\n",
      "실제 Passrate :  59 예측 Passrate :  59 오차 :  0\n",
      "실제 Passrate :  60 예측 Passrate :  59 오차 :  1\n",
      "실제 Passrate :  64 예측 Passrate :  80 오차 :  -16\n",
      "실제 Passrate :  85 예측 Passrate :  69 오차 :  16\n",
      "실제 Passrate :  50 예측 Passrate :  59 오차 :  -9\n",
      "실제 Passrate :  44 예측 Passrate :  50 오차 :  -6\n",
      "실제 Passrate :  10 예측 Passrate :  10 오차 :  0\n",
      "실제 Passrate :  88 예측 Passrate :  96 오차 :  -8\n",
      "실제 Passrate :  12 예측 Passrate :  49 오차 :  -37\n",
      "실제 Passrate :  80 예측 Passrate :  69 오차 :  11\n",
      "실제 Passrate :  81 예측 Passrate :  81 오차 :  0\n",
      "실제 Passrate :  62 예측 Passrate :  59 오차 :  3\n",
      "실제 Passrate :  75 예측 Passrate :  69 오차 :  6\n",
      "실제 Passrate :  12 예측 Passrate :  13 오차 :  -1\n",
      "실제 Passrate :  43 예측 Passrate :  49 오차 :  -6\n",
      "실제 Passrate :  35 예측 Passrate :  50 오차 :  -15\n",
      "실제 Passrate :  35 예측 Passrate :  49 오차 :  -14\n",
      "실제 Passrate :  54 예측 Passrate :  59 오차 :  -5\n",
      "실제 Passrate :  72 예측 Passrate :  80 오차 :  -8\n",
      "실제 Passrate :  83 예측 Passrate :  96 오차 :  -13\n",
      "실제 Passrate :  35 예측 Passrate :  49 오차 :  -14\n",
      "실제 Passrate :  41 예측 Passrate :  13 오차 :  28\n",
      "실제 Passrate :  40 예측 Passrate :  49 오차 :  -9\n",
      "실제 Passrate :  24 예측 Passrate :  13 오차 :  11\n",
      "Passrate 평균 정확도 :  70.93 %\n"
     ]
    }
   ],
   "source": [
    "y_test = y_test.tolist()\n",
    "y_predicted = model_predict_passrate.predict(x_test)\n",
    "\n",
    "accuracy = []\n",
    "for i in range(len(y_predicted)):\n",
    "    diff = abs(y_test[i] - y_predicted[i]) # 실제 값과 예측값 차이의 절대값\n",
    "    accuracy.append(100 - (diff / y_test[i] * 100)) # 정확도 계산 및 리스트 저장\n",
    "    print(\"실제 Passrate : \", y_test[i], \"예측 Passrate : \", y_predicted[i], \"오차 : \", y_test[i] - y_predicted[i])\n",
    "\n",
    "# 평균 정확도 계산\n",
    "acc_mean = np.mean(accuracy)\n",
    "print(\"Passrate 평균 정확도 : \" , round(acc_mean,2), \"%\")"
   ]
  },
  {
   "cell_type": "markdown",
   "metadata": {},
   "source": [
    "## 4. 점수 향상도 평가(예측) 모델\n",
    "#### 데이터 전처리 및 향상도 데이터 생성"
   ]
  },
  {
   "cell_type": "code",
   "execution_count": 152,
   "metadata": {},
   "outputs": [],
   "source": [
    "data_score = data[['Sco001', 'Sco002', 'Sco003', 'Sco004', 'Sco005', 'Sco006', 'Sco007', 'Sco008', 'Sco009', 'Sco010',]]\n",
    "data_diff = data_score.copy()\n",
    "data_diff['Sco1-2'] = data_score['Sco001'] - data_score['Sco002']\n",
    "data_diff['Sco2-3'] = data_score['Sco002'] - data_score['Sco003']\n",
    "data_diff['Sco3-4'] = data_score['Sco003'] - data_score['Sco004']\n",
    "data_diff['Sco4-5'] = data_score['Sco004'] - data_score['Sco005']\n",
    "data_diff['Sco5-6'] = data_score['Sco005'] - data_score['Sco006']\n",
    "data_diff['Sco6-7'] = data_score['Sco006'] - data_score['Sco007']\n",
    "data_diff['Sco7-8'] = data_score['Sco007'] - data_score['Sco008']\n",
    "data_diff['Sco8-9'] = data_score['Sco008'] - data_score['Sco009']\n",
    "data_diff['Sco9-10'] = data_score['Sco009'] - data_score['Sco010']"
   ]
  },
  {
   "cell_type": "markdown",
   "metadata": {},
   "source": [
    "#### 데이터 분할"
   ]
  },
  {
   "cell_type": "code",
   "execution_count": 153,
   "metadata": {
    "scrolled": true
   },
   "outputs": [
    {
     "name": "stdout",
     "output_type": "stream",
     "text": [
      "train_data_x :  297\n",
      "test_data_x :  33\n",
      "train_data_y :  297\n",
      "test_data_y :  33\n"
     ]
    }
   ],
   "source": [
    "# train data : test data = 90 : 10\n",
    "x = data_diff[['Sco1-2','Sco2-3','Sco3-4','Sco4-5','Sco5-6','Sco6-7','Sco7-8','Sco8-9']]\n",
    "y = data_diff['Sco9-10']\n",
    "y = list(map(abs,y))\n",
    "\n",
    "x_train, x_test, y_train, y_test = train_test_split(x, y, test_size=0.1, random_state=0)\n",
    "print(\"train_data_x : \", len(x_train))\n",
    "print(\"test_data_x : \", len(x_test))\n",
    "print(\"train_data_y : \", len(y_train))\n",
    "print(\"test_data_y : \", len(y_test))"
   ]
  },
  {
   "cell_type": "markdown",
   "metadata": {},
   "source": [
    "#### 점수 향상도 예측용 머신러닝 모델 학습( Logistic Regression 알고리즘 적용) "
   ]
  },
  {
   "cell_type": "code",
   "execution_count": 154,
   "metadata": {},
   "outputs": [
    {
     "name": "stderr",
     "output_type": "stream",
     "text": [
      "/Users/peter/opt/anaconda3/lib/python3.7/site-packages/sklearn/linear_model/_logistic.py:940: ConvergenceWarning: lbfgs failed to converge (status=1):\n",
      "STOP: TOTAL NO. of ITERATIONS REACHED LIMIT.\n",
      "\n",
      "Increase the number of iterations (max_iter) or scale the data as shown in:\n",
      "    https://scikit-learn.org/stable/modules/preprocessing.html\n",
      "Please also refer to the documentation for alternative solver options:\n",
      "    https://scikit-learn.org/stable/modules/linear_model.html#logistic-regression\n",
      "  extra_warning_msg=_LOGISTIC_SOLVER_CONVERGENCE_MSG)\n"
     ]
    },
    {
     "data": {
      "text/plain": [
       "LogisticRegression(C=1.0, class_weight=None, dual=False, fit_intercept=True,\n",
       "                   intercept_scaling=1, l1_ratio=None, max_iter=100,\n",
       "                   multi_class='auto', n_jobs=None, penalty='l2',\n",
       "                   random_state=None, solver='lbfgs', tol=0.0001, verbose=0,\n",
       "                   warm_start=False)"
      ]
     },
     "execution_count": 154,
     "metadata": {},
     "output_type": "execute_result"
    }
   ],
   "source": [
    "from sklearn.linear_model import LogisticRegression\n",
    "model_score_improvement = LogisticRegression()\n",
    "model_score_improvement.fit(x_train, y_train)"
   ]
  },
  {
   "cell_type": "code",
   "execution_count": 165,
   "metadata": {},
   "outputs": [
    {
     "name": "stdout",
     "output_type": "stream",
     "text": [
      "실제 Passrate :  9 예측 Passrate :  1 오차 :  8\n",
      "실제 Passrate :  6 예측 Passrate :  2 오차 :  4\n",
      "실제 Passrate :  1 예측 Passrate :  2 오차 :  -1\n",
      "실제 Passrate :  6 예측 Passrate :  7 오차 :  -1\n",
      "실제 Passrate :  2 예측 Passrate :  1 오차 :  1\n",
      "실제 Passrate :  8 예측 Passrate :  1 오차 :  7\n",
      "실제 Passrate :  2 예측 Passrate :  15 오차 :  -13\n",
      "실제 Passrate :  15 예측 Passrate :  13 오차 :  2\n",
      "실제 Passrate :  7 예측 Passrate :  0 오차 :  7\n",
      "실제 Passrate :  10 예측 Passrate :  0 오차 :  10\n",
      "실제 Passrate :  24 예측 Passrate :  35 오차 :  -11\n",
      "실제 Passrate :  3 예측 Passrate :  5 오차 :  -2\n",
      "실제 Passrate :  9 예측 Passrate :  2 오차 :  7\n",
      "실제 Passrate :  11 예측 Passrate :  27 오차 :  -16\n",
      "실제 Passrate :  17 예측 Passrate :  3 오차 :  14\n",
      "실제 Passrate :  32 예측 Passrate :  32 오차 :  0\n",
      "실제 Passrate :  4 예측 Passrate :  1 오차 :  3\n",
      "실제 Passrate :  11 예측 Passrate :  1 오차 :  10\n",
      "실제 Passrate :  10 예측 Passrate :  17 오차 :  -7\n",
      "실제 Passrate :  2 예측 Passrate :  4 오차 :  -2\n",
      "실제 Passrate :  15 예측 Passrate :  2 오차 :  13\n",
      "실제 Passrate :  8 예측 Passrate :  1 오차 :  7\n",
      "실제 Passrate :  16 예측 Passrate :  4 오차 :  12\n",
      "실제 Passrate :  15 예측 Passrate :  13 오차 :  2\n",
      "실제 Passrate :  2 예측 Passrate :  17 오차 :  -15\n",
      "실제 Passrate :  0 예측 Passrate :  5 오차 :  -5\n",
      "실제 Passrate :  7 예측 Passrate :  4 오차 :  3\n",
      "실제 Passrate :  0 예측 Passrate :  3 오차 :  -3\n",
      "실제 Passrate :  5 예측 Passrate :  1 오차 :  4\n",
      "실제 Passrate :  11 예측 Passrate :  15 오차 :  -4\n",
      "실제 Passrate :  0 예측 Passrate :  12 오차 :  -12\n",
      "실제 Passrate :  36 예측 Passrate :  17 오차 :  19\n",
      "실제 Passrate :  17 예측 Passrate :  3 오차 :  14\n",
      "Passrate 평균 정확도 :  92.76 %\n"
     ]
    }
   ],
   "source": [
    "y_predicted = model_score_improvement.predict(x_test)\n",
    "accuracy = []\n",
    "for i in range(len(y_predicted)):\n",
    "    diff = abs(y_test[i] - y_predicted[i]) # 실제 값과 예측값 차이의 절대값\n",
    "    accuracy.append(100 - diff) # 정확도 계산 및 리스트 저장\n",
    "    print(\"실제 Passrate : \", y_test[i], \"예측 Passrate : \", y_predicted[i], \"오차 : \", y_test[i] - y_predicted[i])\n",
    "\n",
    "# 평균 정확도 계산\n",
    "accuracy = list(map(abs,accuracy))\n",
    "acc_mean = np.mean(accuracy)\n",
    "print(\"Passrate 평균 정확도 : \" , round(acc_mean,2), \"%\")"
   ]
  },
  {
   "cell_type": "code",
   "execution_count": null,
   "metadata": {},
   "outputs": [],
   "source": []
  }
 ],
 "metadata": {
  "kernelspec": {
   "display_name": "Python 3",
   "language": "python",
   "name": "python3"
  },
  "language_info": {
   "codemirror_mode": {
    "name": "ipython",
    "version": 3
   },
   "file_extension": ".py",
   "mimetype": "text/x-python",
   "name": "python",
   "nbconvert_exporter": "python",
   "pygments_lexer": "ipython3",
   "version": "3.7.6"
  }
 },
 "nbformat": 4,
 "nbformat_minor": 4
}
