{
 "cells": [
  {
   "cell_type": "code",
   "execution_count": null,
   "metadata": {},
   "outputs": [],
   "source": [
    "import pandas as pd"
   ]
  },
  {
   "cell_type": "code",
   "execution_count": null,
   "metadata": {},
   "outputs": [],
   "source": [
    "df = pd.read_csv('data/question.csv')"
   ]
  },
  {
   "cell_type": "code",
   "execution_count": null,
   "metadata": {},
   "outputs": [],
   "source": [
    "import re\n",
    "f = open('data/question.csv')\n",
    "for i in f:\n",
    "    i = re.sub('\\\\\\\"','', i)\n",
    "    print(i)\n",
    "# fl = f.readlines().sub('\\\"','', df)\n",
    "# print(re.sub('\\\"','', df))"
   ]
  },
  {
   "cell_type": "code",
   "execution_count": null,
   "metadata": {},
   "outputs": [],
   "source": [
    "df"
   ]
  },
  {
   "cell_type": "code",
   "execution_count": null,
   "metadata": {},
   "outputs": [],
   "source": [
    "import numpy as np\n",
    "import re\n",
    "import pandas as pd"
   ]
  },
  {
   "cell_type": "code",
   "execution_count": null,
   "metadata": {},
   "outputs": [],
   "source": [
    "file = open('data/question.csv')\n",
    "data = []\n",
    "f = file.readlines()\n",
    "bkt = False\n",
    "for n in range(len(f)):\n",
    "    tmp = ''\n",
    "    row = []\n",
    "    for i in list(f[n]):\n",
    "        if i == \"\\\"\":\n",
    "            continue\n",
    "        if i == \"[\":\n",
    "            arr = []\n",
    "            bkt = True\n",
    "        elif i == \"]\":\n",
    "            bkt = False\n",
    "        if i == \",\":\n",
    "            if bkt == True: # bracket 안에 있을 경우에는,\n",
    "                tmp += i # tmp에 일단 더하되,\n",
    "                arr.append(tmp)\n",
    "            elif bkt == False:\n",
    "                row.append(tmp)\n",
    "                tmp = ''\n",
    "        else:\n",
    "            tmp += i\n",
    "        if i == \"\\n\":\n",
    "            tmp = re.sub('\\n','',tmp)\n",
    "            row.append(tmp)\n",
    "#             print(\"end of string\")\n",
    "#         print(row)\n",
    "    data.append(row)\n",
    "        \n",
    "#         print(tmp)\n",
    "    \n",
    "# print(data[7][2])\n",
    "# print(len(data))\n",
    "\n",
    "            \n",
    "        \n",
    "#         print(i)\n",
    "#     print(line)\n",
    "df = pd.DataFrame(data)"
   ]
  },
  {
   "cell_type": "code",
   "execution_count": null,
   "metadata": {},
   "outputs": [],
   "source": [
    "df"
   ]
  },
  {
   "cell_type": "markdown",
   "metadata": {},
   "source": [
    "######################################################################"
   ]
  },
  {
   "cell_type": "markdown",
   "metadata": {},
   "source": [
    "## 1. 데이터 입력"
   ]
  },
  {
   "cell_type": "code",
   "execution_count": 1,
   "metadata": {},
   "outputs": [],
   "source": [
    "import pandas as pd\n",
    "import re"
   ]
  },
  {
   "cell_type": "code",
   "execution_count": 2,
   "metadata": {},
   "outputs": [],
   "source": [
    "df = pd.DataFrame(columns = [\"no\", \"title\", \"types\", \"level_type\", \"limit_time\"])\n",
    "df = df.append(pd.Series([1,\"두 수의 합\",[\"MATHEMATICS\"],\"LEVEL1\",\"40\"], index=df.columns),ignore_index=True)\n",
    "df = df.append(pd.Series([2,\"가장 큰 수\",[\"SORT\"],\"LEVEL2\",\"50\"], index=df.columns),ignore_index=True)\n",
    "df = df.append(pd.Series([3,\"H-Index\",[\"SORT\"],\"LEVEL3\",\"40\"], index=df.columns),ignore_index=True)\n",
    "df = df.append(pd.Series([4,\"369게임\",[\"STRING\"],\"LEVEL1\",\"30\"], index=df.columns),ignore_index=True)\n",
    "df = df.append(pd.Series([5,\"피타고라스의 수\",[\"GRAPH\"],\"LEVEL1\",\"40\"], index=df.columns),ignore_index=True)\n",
    "df = df.append(pd.Series([6,\"전화번호 유형\",[\"STRING\"],\"LEVEL1\",\"30\"], index=df.columns),ignore_index=True)\n",
    "df = df.append(pd.Series([7,\"다음 숫자\",[\"SORT\", \"STRING\"],\"LEVEL1\",\"30\"], index=df.columns),ignore_index=True)\n",
    "df = df.append(pd.Series([8,\"시간 표시 바꾸기\",[\"SORT\", \"ARRAY\"],\"LEVEL2\",\"40\"], index=df.columns),ignore_index=True)\n",
    "df = df.append(pd.Series([26,\"a 와 z\",[\"STACK\",\"STRING\"],\"LEVEL4\",\"50\"], index=df.columns),ignore_index=True)\n",
    "df = df.append(pd.Series([31,\"예산(budget)\",[\"MATHEMATICS\",\"STRING\"],\"LEVEL5\",\"50\"], index=df.columns),ignore_index=True)\n"
   ]
  },
  {
   "cell_type": "code",
   "execution_count": 3,
   "metadata": {},
   "outputs": [
    {
     "data": {
      "text/html": [
       "<div>\n",
       "<style scoped>\n",
       "    .dataframe tbody tr th:only-of-type {\n",
       "        vertical-align: middle;\n",
       "    }\n",
       "\n",
       "    .dataframe tbody tr th {\n",
       "        vertical-align: top;\n",
       "    }\n",
       "\n",
       "    .dataframe thead th {\n",
       "        text-align: right;\n",
       "    }\n",
       "</style>\n",
       "<table border=\"1\" class=\"dataframe\">\n",
       "  <thead>\n",
       "    <tr style=\"text-align: right;\">\n",
       "      <th></th>\n",
       "      <th>no</th>\n",
       "      <th>title</th>\n",
       "      <th>types</th>\n",
       "      <th>level_type</th>\n",
       "      <th>limit_time</th>\n",
       "    </tr>\n",
       "  </thead>\n",
       "  <tbody>\n",
       "    <tr>\n",
       "      <th>0</th>\n",
       "      <td>1</td>\n",
       "      <td>두 수의 합</td>\n",
       "      <td>[MATHEMATICS]</td>\n",
       "      <td>LEVEL1</td>\n",
       "      <td>40</td>\n",
       "    </tr>\n",
       "    <tr>\n",
       "      <th>1</th>\n",
       "      <td>2</td>\n",
       "      <td>가장 큰 수</td>\n",
       "      <td>[SORT]</td>\n",
       "      <td>LEVEL2</td>\n",
       "      <td>50</td>\n",
       "    </tr>\n",
       "    <tr>\n",
       "      <th>2</th>\n",
       "      <td>3</td>\n",
       "      <td>H-Index</td>\n",
       "      <td>[SORT]</td>\n",
       "      <td>LEVEL3</td>\n",
       "      <td>40</td>\n",
       "    </tr>\n",
       "    <tr>\n",
       "      <th>3</th>\n",
       "      <td>4</td>\n",
       "      <td>369게임</td>\n",
       "      <td>[STRING]</td>\n",
       "      <td>LEVEL1</td>\n",
       "      <td>30</td>\n",
       "    </tr>\n",
       "    <tr>\n",
       "      <th>4</th>\n",
       "      <td>5</td>\n",
       "      <td>피타고라스의 수</td>\n",
       "      <td>[GRAPH]</td>\n",
       "      <td>LEVEL1</td>\n",
       "      <td>40</td>\n",
       "    </tr>\n",
       "    <tr>\n",
       "      <th>5</th>\n",
       "      <td>6</td>\n",
       "      <td>전화번호 유형</td>\n",
       "      <td>[STRING]</td>\n",
       "      <td>LEVEL1</td>\n",
       "      <td>30</td>\n",
       "    </tr>\n",
       "    <tr>\n",
       "      <th>6</th>\n",
       "      <td>7</td>\n",
       "      <td>다음 숫자</td>\n",
       "      <td>[SORT, STRING]</td>\n",
       "      <td>LEVEL1</td>\n",
       "      <td>30</td>\n",
       "    </tr>\n",
       "    <tr>\n",
       "      <th>7</th>\n",
       "      <td>8</td>\n",
       "      <td>시간 표시 바꾸기</td>\n",
       "      <td>[SORT, ARRAY]</td>\n",
       "      <td>LEVEL2</td>\n",
       "      <td>40</td>\n",
       "    </tr>\n",
       "    <tr>\n",
       "      <th>8</th>\n",
       "      <td>26</td>\n",
       "      <td>a 와 z</td>\n",
       "      <td>[STACK, STRING]</td>\n",
       "      <td>LEVEL4</td>\n",
       "      <td>50</td>\n",
       "    </tr>\n",
       "    <tr>\n",
       "      <th>9</th>\n",
       "      <td>31</td>\n",
       "      <td>예산(budget)</td>\n",
       "      <td>[MATHEMATICS, STRING]</td>\n",
       "      <td>LEVEL5</td>\n",
       "      <td>50</td>\n",
       "    </tr>\n",
       "  </tbody>\n",
       "</table>\n",
       "</div>"
      ],
      "text/plain": [
       "   no       title                  types level_type limit_time\n",
       "0   1      두 수의 합          [MATHEMATICS]     LEVEL1         40\n",
       "1   2      가장 큰 수                 [SORT]     LEVEL2         50\n",
       "2   3     H-Index                 [SORT]     LEVEL3         40\n",
       "3   4       369게임               [STRING]     LEVEL1         30\n",
       "4   5    피타고라스의 수                [GRAPH]     LEVEL1         40\n",
       "5   6     전화번호 유형               [STRING]     LEVEL1         30\n",
       "6   7       다음 숫자         [SORT, STRING]     LEVEL1         30\n",
       "7   8   시간 표시 바꾸기          [SORT, ARRAY]     LEVEL2         40\n",
       "8  26       a 와 z        [STACK, STRING]     LEVEL4         50\n",
       "9  31  예산(budget)  [MATHEMATICS, STRING]     LEVEL5         50"
      ]
     },
     "execution_count": 3,
     "metadata": {},
     "output_type": "execute_result"
    }
   ],
   "source": [
    "df"
   ]
  },
  {
   "cell_type": "code",
   "execution_count": 4,
   "metadata": {},
   "outputs": [],
   "source": [
    "arr = df.to_numpy()"
   ]
  },
  {
   "cell_type": "code",
   "execution_count": 41,
   "metadata": {},
   "outputs": [
    {
     "data": {
      "text/plain": [
       "'30'"
      ]
     },
     "execution_count": 41,
     "metadata": {},
     "output_type": "execute_result"
    }
   ],
   "source": [
    "arr[6][4]"
   ]
  },
  {
   "cell_type": "markdown",
   "metadata": {},
   "source": [
    "## 2. 유사도 계산"
   ]
  },
  {
   "cell_type": "code",
   "execution_count": 6,
   "metadata": {},
   "outputs": [
    {
     "data": {
      "text/plain": [
       "0.5"
      ]
     },
     "execution_count": 6,
     "metadata": {},
     "output_type": "execute_result"
    }
   ],
   "source": [
    "def compare_types(idx1, idx2):\n",
    "    '''\n",
    "    문제 유형의 유사도를 구하는 함수\n",
    "    유형 항목은 discrete하기 때문에 비교 시 일치하는 유형이 있는지에 대한 확인을 한다.\n",
    "    idx1 : 이미 푼 문제 index\n",
    "    idx2 : 아직 안 푼 문제 index\n",
    "    return : 동일한 유형의 포함 비율 (0~1)\n",
    "    '''\n",
    "    q1 = set(arr[idx1][2]) # 비교 연산을 위해 set 형태로 변환\n",
    "    q2 = set(arr[idx2][2])\n",
    "    return len(set.intersection(q1,q2)) / len(q2)\n",
    "\n",
    "compare_types(5,6)"
   ]
  },
  {
   "cell_type": "code",
   "execution_count": 48,
   "metadata": {},
   "outputs": [
    {
     "data": {
      "text/plain": [
       "-1"
      ]
     },
     "execution_count": 48,
     "metadata": {},
     "output_type": "execute_result"
    }
   ],
   "source": [
    "def compare_level_type(idx1, idx2):\n",
    "    '''\n",
    "    q1에 대한 q2의 레벨 차를 반환\n",
    "    레벨은 유형(types)과 ordinal 데이터기 때문에, 두 레벨 차를 그대로 반환\n",
    "    idx1 : 이미 푼 문제 index\n",
    "    idx2 : 아직 안 푼 문제 index\n",
    "    return : 레벨 차이(-4 ~ +4) ; \n",
    "    '''\n",
    "    q1 = int([q for q in arr[idx1][3] if str.isdigit(q)][0]) # string에서 숫자만 추출\n",
    "    q2 = int([q for q in arr[idx2][3] if str.isdigit(q)][0])\n",
    "    diff = q1-q2\n",
    "    return diff\n",
    "\n",
    "compare_level_type(0,1)"
   ]
  },
  {
   "cell_type": "code",
   "execution_count": 50,
   "metadata": {},
   "outputs": [
    {
     "data": {
      "text/plain": [
       "-20"
      ]
     },
     "execution_count": 50,
     "metadata": {},
     "output_type": "execute_result"
    }
   ],
   "source": [
    "def compare_limit_time(idx1, idx2):\n",
    "    '''\n",
    "    q1에 대한 q2의 제한 시간 차를 하는 함수\n",
    "    return : 제한시간 차를 반환\n",
    "    '''\n",
    "    q1 = arr[idx1][4]\n",
    "    q2 = arr[idx2][4]\n",
    "    diff = int(q1)-int(q2)\n",
    "    return diff\n",
    "\n",
    "compare_limit_time(3,1)"
   ]
  },
  {
   "cell_type": "markdown",
   "metadata": {},
   "source": [
    "## 3. 점수 예측\n",
    "### 3-1. TC통과율 예측"
   ]
  },
  {
   "cell_type": "code",
   "execution_count": 97,
   "metadata": {},
   "outputs": [
    {
     "name": "stdout",
     "output_type": "stream",
     "text": [
      "58.0\n",
      "78.0\n",
      "83.0\n",
      "63.0\n",
      "73.0\n",
      "73.0\n",
      "63.0\n",
      "53.0\n",
      "68.0\n"
     ]
    }
   ],
   "source": [
    "def predict_passrate(qid1,passrate,qid2):\n",
    "    '''\n",
    "    TC통과율 예측 함수\n",
    "    이미 푼 문제1의 ID와 TC 통과율을 입력하면, 문제2에 대한 TC통과율을 반환한다.\n",
    "    return : q2 passrate\n",
    "    반환되는 passrate가 q1에 비해 높아지려면\n",
    "    1. 유형 유사도 up / 2. level difficulty up / 3. 제한시간 down 이어야 한다.\n",
    "    - (유형 유사도(0~1) 값 - 0.5) * 10\n",
    "    - 레벨 차이(-4 ~ +4)*5\n",
    "    - 제한시간 차이(-20 ~ +20)*0.5\n",
    "    '''\n",
    "#     passrate = 73\n",
    "    types = compare_types(qid1,qid2)\n",
    "    level_type = compare_level_type(qid1,qid2)\n",
    "    limit_time = compare_limit_time(qid1,qid2)\n",
    "    predicted_passrate = passrate + ((types-0.5)*10 + level_type*5 + limit_time*0.5)\n",
    "    predicted_passrate = 100 if predicted_passrate > 100 else predicted_passrate\n",
    "    \n",
    "    return predicted_passrate\n",
    "\n",
    "predict_passrate(7,73,6)\n",
    "for i in range(9):\n",
    "#     print(i,\"번 index 문제 : \", \"73\", \" , \", i+1, \"번 index 문제 : \")\n",
    "    print(predict_passrate(i,73,i+1))\n",
    "    "
   ]
  },
  {
   "cell_type": "markdown",
   "metadata": {},
   "source": [
    "### 3-2. 소요시간 예측"
   ]
  },
  {
   "cell_type": "code",
   "execution_count": 169,
   "metadata": {},
   "outputs": [
    {
     "name": "stdout",
     "output_type": "stream",
     "text": [
      "35\n",
      "45\n",
      "40\n",
      "30\n",
      "30\n",
      "30\n",
      "30\n",
      "30\n",
      "45\n"
     ]
    }
   ],
   "source": [
    "def predict_time(qid1, time, qid2):\n",
    "    '''\n",
    "    q2의 제한시간을 기준으로 산출된 조정시간을 더함\n",
    "    '''\n",
    "#     time = 50\n",
    "    types = compare_types(qid1,qid2)\n",
    "    level_type = compare_level_type(qid1,qid2)\n",
    "    limit_time = compare_limit_time(qid1,qid2)\n",
    "    q2_limit_time = int(arr[qid2][4])\n",
    "    predicted_time = q2_limit_time + ((types-0.5)*10 + level_type*5 + limit_time*0.5)\n",
    "    \n",
    "    return int(predicted_time)\n",
    "\n",
    "for i in range(9):\n",
    "    print(predict_time(i, 50, i+1))"
   ]
  },
  {
   "cell_type": "markdown",
   "metadata": {},
   "source": [
    "## 3-3. 종합점수 예측"
   ]
  },
  {
   "cell_type": "code",
   "execution_count": 105,
   "metadata": {},
   "outputs": [
    {
     "name": "stdout",
     "output_type": "stream",
     "text": [
      "68.2\n",
      "77.7\n",
      "75.5\n",
      "68.0\n",
      "71.0\n",
      "71.0\n",
      "68.0\n",
      "65.0\n",
      "74.7\n"
     ]
    }
   ],
   "source": [
    "def predict_score(qid1, passrate, time, qid2):\n",
    "    pr = predict_passrate(qid1, passrate, qid2) # 예측된 통과율\n",
    "    pt = predict_time(qid1, time, qid2) # 예측된 소요시간 - 백분위 변경 필요 - 소요시간 내 완료 시 100점, 1분 초과시 1점 차감.\n",
    "    limit_time_q2 = int(arr[qid2][4])\n",
    "    if pt <= limit_time_q2:\n",
    "        score = 100\n",
    "    else:\n",
    "        score = 100 - (pt - limit_time_q2)\n",
    "    predicted_score = pr*0.65 + limit_time_q2*0.35 # TC통과율 가중치 65%, 소요시간 가중치 35%\n",
    "#     print(pr,pt,limit_time_q2, round(predicted_score,1))\n",
    "    return round(predicted_score,1)\n",
    "    \n",
    "for i in range(9):\n",
    "    print(predict_score(i, 93, 50, i+1))"
   ]
  },
  {
   "cell_type": "markdown",
   "metadata": {},
   "source": [
    "## S3"
   ]
  },
  {
   "cell_type": "code",
   "execution_count": 106,
   "metadata": {},
   "outputs": [],
   "source": [
    "# userid별 푼 문제 조회"
   ]
  },
  {
   "cell_type": "code",
   "execution_count": 145,
   "metadata": {},
   "outputs": [
    {
     "data": {
      "text/html": [
       "<div>\n",
       "<style scoped>\n",
       "    .dataframe tbody tr th:only-of-type {\n",
       "        vertical-align: middle;\n",
       "    }\n",
       "\n",
       "    .dataframe tbody tr th {\n",
       "        vertical-align: top;\n",
       "    }\n",
       "\n",
       "    .dataframe thead th {\n",
       "        text-align: right;\n",
       "    }\n",
       "</style>\n",
       "<table border=\"1\" class=\"dataframe\">\n",
       "  <thead>\n",
       "    <tr style=\"text-align: right;\">\n",
       "      <th></th>\n",
       "      <th>no</th>\n",
       "      <th>evaluation_no</th>\n",
       "      <th>evaluation_result_no</th>\n",
       "      <th>user_no</th>\n",
       "      <th>question_no</th>\n",
       "      <th>total_score</th>\n",
       "      <th>accuracy_score</th>\n",
       "      <th>duration_time_score</th>\n",
       "      <th>duration_time</th>\n",
       "      <th>limit_time</th>\n",
       "      <th>submit_cnt</th>\n",
       "      <th>accuracy_grade</th>\n",
       "      <th>duration_time_grade</th>\n",
       "      <th>submit_cnt_grade</th>\n",
       "      <th>created_at</th>\n",
       "    </tr>\n",
       "  </thead>\n",
       "  <tbody>\n",
       "    <tr>\n",
       "      <th>0</th>\n",
       "      <td>1</td>\n",
       "      <td>39</td>\n",
       "      <td>1</td>\n",
       "      <td>83</td>\n",
       "      <td>1</td>\n",
       "      <td>70</td>\n",
       "      <td>40</td>\n",
       "      <td>100</td>\n",
       "      <td>0</td>\n",
       "      <td>40</td>\n",
       "      <td>1</td>\n",
       "      <td>40</td>\n",
       "      <td>10</td>\n",
       "      <td>3</td>\n",
       "      <td>2021-05-26 11:04:54</td>\n",
       "    </tr>\n",
       "    <tr>\n",
       "      <th>1</th>\n",
       "      <td>2</td>\n",
       "      <td>48</td>\n",
       "      <td>2</td>\n",
       "      <td>83</td>\n",
       "      <td>1</td>\n",
       "      <td>100</td>\n",
       "      <td>100</td>\n",
       "      <td>100</td>\n",
       "      <td>69</td>\n",
       "      <td>40</td>\n",
       "      <td>1</td>\n",
       "      <td>100</td>\n",
       "      <td>10</td>\n",
       "      <td>3</td>\n",
       "      <td>2021-05-27 05:18:36</td>\n",
       "    </tr>\n",
       "    <tr>\n",
       "      <th>2</th>\n",
       "      <td>3</td>\n",
       "      <td>2</td>\n",
       "      <td>4</td>\n",
       "      <td>83</td>\n",
       "      <td>1</td>\n",
       "      <td>70</td>\n",
       "      <td>40</td>\n",
       "      <td>100</td>\n",
       "      <td>10</td>\n",
       "      <td>40</td>\n",
       "      <td>2</td>\n",
       "      <td>40</td>\n",
       "      <td>10</td>\n",
       "      <td>3</td>\n",
       "      <td>2021-05-27 16:16:30</td>\n",
       "    </tr>\n",
       "    <tr>\n",
       "      <th>3</th>\n",
       "      <td>4</td>\n",
       "      <td>2</td>\n",
       "      <td>5</td>\n",
       "      <td>83</td>\n",
       "      <td>1</td>\n",
       "      <td>70</td>\n",
       "      <td>40</td>\n",
       "      <td>100</td>\n",
       "      <td>10</td>\n",
       "      <td>40</td>\n",
       "      <td>3</td>\n",
       "      <td>40</td>\n",
       "      <td>10</td>\n",
       "      <td>3</td>\n",
       "      <td>2021-05-27 16:16:34</td>\n",
       "    </tr>\n",
       "    <tr>\n",
       "      <th>4</th>\n",
       "      <td>5</td>\n",
       "      <td>49</td>\n",
       "      <td>6</td>\n",
       "      <td>83</td>\n",
       "      <td>1</td>\n",
       "      <td>70</td>\n",
       "      <td>40</td>\n",
       "      <td>100</td>\n",
       "      <td>95</td>\n",
       "      <td>40</td>\n",
       "      <td>0</td>\n",
       "      <td>40</td>\n",
       "      <td>90</td>\n",
       "      <td>3</td>\n",
       "      <td>2021-05-27 08:26:31</td>\n",
       "    </tr>\n",
       "  </tbody>\n",
       "</table>\n",
       "</div>"
      ],
      "text/plain": [
       "   no  evaluation_no  evaluation_result_no  user_no  question_no  total_score  \\\n",
       "0   1             39                     1       83            1           70   \n",
       "1   2             48                     2       83            1          100   \n",
       "2   3              2                     4       83            1           70   \n",
       "3   4              2                     5       83            1           70   \n",
       "4   5             49                     6       83            1           70   \n",
       "\n",
       "   accuracy_score  duration_time_score  duration_time  limit_time  submit_cnt  \\\n",
       "0              40                  100              0          40           1   \n",
       "1             100                  100             69          40           1   \n",
       "2              40                  100             10          40           2   \n",
       "3              40                  100             10          40           3   \n",
       "4              40                  100             95          40           0   \n",
       "\n",
       "   accuracy_grade  duration_time_grade  submit_cnt_grade           created_at  \n",
       "0              40                   10                 3  2021-05-26 11:04:54  \n",
       "1             100                   10                 3  2021-05-27 05:18:36  \n",
       "2              40                   10                 3  2021-05-27 16:16:30  \n",
       "3              40                   10                 3  2021-05-27 16:16:34  \n",
       "4              40                   90                 3  2021-05-27 08:26:31  "
      ]
     },
     "execution_count": 145,
     "metadata": {},
     "output_type": "execute_result"
    }
   ],
   "source": [
    "import pandas as pd\n",
    "import boto3\n",
    "\n",
    "bucket = \"dev-luxrobo-stream\"\n",
    "file_name = \"evaluation_result_view.csv\"\n",
    "\n",
    "s3 = boto3.client('s3') \n",
    "# 's3' is a key word. create connection to S3 using default config and all buckets within S3\n",
    "\n",
    "obj = s3.get_object(Bucket= bucket, Key= file_name) \n",
    "# get object and file (key) from bucket\n",
    "\n",
    "df = pd.read_csv(obj['Body']) # 'Body' is a key word\n",
    "df"
   ]
  },
  {
   "cell_type": "code",
   "execution_count": 164,
   "metadata": {},
   "outputs": [
    {
     "data": {
      "text/plain": [
       "(1, 40, 0, 70)"
      ]
     },
     "execution_count": 164,
     "metadata": {},
     "output_type": "execute_result"
    }
   ],
   "source": [
    "def find_user_score(uid):\n",
    "    idxs = df.index[df['user_no'] == uid].tolist()\n",
    "    idx = idxs[0]\n",
    "    \n",
    "    # 첫번째 인덱스의 문제번호, TC통과율, 소요시간, 종합점수 추출\n",
    "    qid = df['question_no'][idx]\n",
    "    passrate = df['accuracy_score'][idx]\n",
    "    time = df['duration_time'][idx]\n",
    "    score = df['total_score'][idx]\n",
    "    \n",
    "    return qid, passrate, time, score\n",
    "    \n",
    "    \n",
    "find_user_score(83)"
   ]
  },
  {
   "cell_type": "code",
   "execution_count": 173,
   "metadata": {},
   "outputs": [
    {
     "data": {
      "text/plain": [
       "(50.0, 40, 43.0)"
      ]
     },
     "execution_count": 173,
     "metadata": {},
     "output_type": "execute_result"
    }
   ],
   "source": [
    "def predict(user_no, question_no):\n",
    "    qid_new = question_no\n",
    "    qid_old, passrate, time, score = find_user_score(user_no) # user_no 83 available\n",
    "    p_passrate = predict_passrate(qid_old, passrate, qid_new)\n",
    "    p_time = predict_time(qid_old, time, qid_new)\n",
    "    p_score = predict_score(qid_old, passrate, time, qid_new)\n",
    "    \n",
    "    return p_passrate, p_time, p_score\n",
    "\n",
    "predict(83,3)\n"
   ]
  },
  {
   "cell_type": "code",
   "execution_count": 153,
   "metadata": {},
   "outputs": [
    {
     "name": "stdout",
     "output_type": "stream",
     "text": [
      "[0, 1, 2, 3, 4]\n"
     ]
    }
   ],
   "source": [
    "# df['user_no']\n",
    "print (df.index[df['user_no'] == 83].tolist())\n",
    "# print (df.index[df['user_no'] == 83])"
   ]
  },
  {
   "cell_type": "code",
   "execution_count": 24,
   "metadata": {},
   "outputs": [
    {
     "data": {
      "text/plain": [
       "['1', '2', '3']"
      ]
     },
     "execution_count": 24,
     "metadata": {},
     "output_type": "execute_result"
    }
   ],
   "source": [
    "a='123abc'\n",
    "\n",
    "#result=int(filter(str.isdigit,a))\n",
    "result = [c for c in a if str.isdigit(c)]\n",
    "result"
   ]
  },
  {
   "cell_type": "code",
   "execution_count": null,
   "metadata": {},
   "outputs": [],
   "source": [
    "def preprocessing(한줄):\n",
    "    사용되는 feature는 문제 유형, 레벨, 제한시간 총 3가지.\n",
    "    문제 유형은 one-hot encoding으로 변환\n",
    "    레벨은 그대로 1,2,3,4,5로 사용\n",
    "    제한 시간도 그대로 사용\n",
    "    return 한줄\n",
    "\n",
    "def predict(UID, QID):\n",
    "    인풋: feature\n",
    "    아웃풋: 점수\n",
    "    pass\n",
    "\n",
    "types*a + level_type*b + limit_time*c = 통과율\n"
   ]
  },
  {
   "cell_type": "code",
   "execution_count": null,
   "metadata": {},
   "outputs": [],
   "source": [
    "if 해당 문제에 대한 점수가 이미 있는 경우:\n",
    "    기존 passrate 그대로 return\n",
    "else(해당 문제에 대한 점수가 없는 경우):\n",
    "    if 다른 한 문제에 대한 점수가 있는 경우:\n",
    "        점수가 있는 문제와 해당 문제와의 유사도를 통해 linear regression 모델로 예측\n",
    "        linear regression모델에서는 input으로 점수가 있는 한 모델 id\n",
    "    else (아예 점수 자체가 없는 경우):\n",
    "        점수를 산출할 수 없으므로 -> 기본 passrate? 평균 passrate를 return\n",
    "        "
   ]
  }
 ],
 "metadata": {
  "kernelspec": {
   "display_name": "Python 3",
   "language": "python",
   "name": "python3"
  },
  "language_info": {
   "codemirror_mode": {
    "name": "ipython",
    "version": 3
   },
   "file_extension": ".py",
   "mimetype": "text/x-python",
   "name": "python",
   "nbconvert_exporter": "python",
   "pygments_lexer": "ipython3",
   "version": "3.7.6"
  }
 },
 "nbformat": 4,
 "nbformat_minor": 4
}
