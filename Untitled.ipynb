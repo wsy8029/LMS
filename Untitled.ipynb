{
 "cells": [
  {
   "cell_type": "code",
   "execution_count": null,
   "metadata": {},
   "outputs": [],
   "source": [
    "import pandas as pd"
   ]
  },
  {
   "cell_type": "code",
   "execution_count": null,
   "metadata": {},
   "outputs": [],
   "source": [
    "df = pd.read_csv('data/question.csv')"
   ]
  },
  {
   "cell_type": "code",
   "execution_count": null,
   "metadata": {},
   "outputs": [],
   "source": [
    "import re\n",
    "f = open('data/question.csv')\n",
    "for i in f:\n",
    "    i = re.sub('\\\\\\\"','', i)\n",
    "    print(i)\n",
    "# fl = f.readlines().sub('\\\"','', df)\n",
    "# print(re.sub('\\\"','', df))"
   ]
  },
  {
   "cell_type": "code",
   "execution_count": null,
   "metadata": {},
   "outputs": [],
   "source": [
    "df"
   ]
  },
  {
   "cell_type": "code",
   "execution_count": null,
   "metadata": {},
   "outputs": [],
   "source": [
    "import numpy as np\n",
    "import re\n",
    "import pandas as pd"
   ]
  },
  {
   "cell_type": "code",
   "execution_count": null,
   "metadata": {},
   "outputs": [],
   "source": [
    "file = open('data/question.csv')\n",
    "data = []\n",
    "f = file.readlines()\n",
    "bkt = False\n",
    "for n in range(len(f)):\n",
    "    tmp = ''\n",
    "    row = []\n",
    "    for i in list(f[n]):\n",
    "        if i == \"\\\"\":\n",
    "            continue\n",
    "        if i == \"[\":\n",
    "            arr = []\n",
    "            bkt = True\n",
    "        elif i == \"]\":\n",
    "            bkt = False\n",
    "        if i == \",\":\n",
    "            if bkt == True: # bracket 안에 있을 경우에는,\n",
    "                tmp += i # tmp에 일단 더하되,\n",
    "                arr.append(tmp)\n",
    "            elif bkt == False:\n",
    "                row.append(tmp)\n",
    "                tmp = ''\n",
    "        else:\n",
    "            tmp += i\n",
    "        if i == \"\\n\":\n",
    "            tmp = re.sub('\\n','',tmp)\n",
    "            row.append(tmp)\n",
    "#             print(\"end of string\")\n",
    "#         print(row)\n",
    "    data.append(row)\n",
    "        \n",
    "#         print(tmp)\n",
    "    \n",
    "# print(data[7][2])\n",
    "# print(len(data))\n",
    "\n",
    "            \n",
    "        \n",
    "#         print(i)\n",
    "#     print(line)\n",
    "df = pd.DataFrame(data)"
   ]
  },
  {
   "cell_type": "code",
   "execution_count": null,
   "metadata": {},
   "outputs": [],
   "source": [
    "df"
   ]
  },
  {
   "cell_type": "markdown",
   "metadata": {},
   "source": [
    "######################################################################"
   ]
  },
  {
   "cell_type": "code",
   "execution_count": 1,
   "metadata": {},
   "outputs": [],
   "source": [
    "import pandas as pd\n",
    "import re"
   ]
  },
  {
   "cell_type": "code",
   "execution_count": 2,
   "metadata": {},
   "outputs": [],
   "source": [
    "df = pd.DataFrame(columns = [\"no\", \"title\", \"types\", \"level_type\", \"limit_time\"])\n",
    "df = df.append(pd.Series([1,\"두 수의 합\",[\"MATHEMATICS\"],\"LEVEL1\",\"40\"], index=df.columns),ignore_index=True)\n",
    "df = df.append(pd.Series([2,\"가장 큰 수\",[\"SORT\"],\"LEVEL2\",\"50\"], index=df.columns),ignore_index=True)\n",
    "df = df.append(pd.Series([3,\"H-Index\",[\"SORT\"],\"LEVEL3\",\"40\"], index=df.columns),ignore_index=True)\n",
    "df = df.append(pd.Series([4,\"369게임\",[\"STRING\"],\"LEVEL1\",\"30\"], index=df.columns),ignore_index=True)\n",
    "df = df.append(pd.Series([5,\"피타고라스의 수\",[\"GRAPH\"],\"LEVEL1\",\"40\"], index=df.columns),ignore_index=True)\n",
    "df = df.append(pd.Series([6,\"전화번호 유형\",[\"STRING\"],\"LEVEL1\",\"30\"], index=df.columns),ignore_index=True)\n",
    "df = df.append(pd.Series([7,\"다음 숫자\",[\"SORT\", \"STRING\"],\"LEVEL1\",\"30\"], index=df.columns),ignore_index=True)\n",
    "df = df.append(pd.Series([8,\"시간 표시 바꾸기\",[\"SORT\", \"ARRAY\"],\"LEVEL2\",\"40\"], index=df.columns),ignore_index=True)\n",
    "df = df.append(pd.Series([26,\"a 와 z\",[\"STACK\",\"STRING\"],\"LEVEL4\",\"50\"], index=df.columns),ignore_index=True)\n",
    "df = df.append(pd.Series([31,\"예산(budget)\",[\"MATHEMATICS\",\"STRING\"],\"LEVEL5\",\"50\"], index=df.columns),ignore_index=True)\n"
   ]
  },
  {
   "cell_type": "code",
   "execution_count": 3,
   "metadata": {},
   "outputs": [
    {
     "data": {
      "text/html": [
       "<div>\n",
       "<style scoped>\n",
       "    .dataframe tbody tr th:only-of-type {\n",
       "        vertical-align: middle;\n",
       "    }\n",
       "\n",
       "    .dataframe tbody tr th {\n",
       "        vertical-align: top;\n",
       "    }\n",
       "\n",
       "    .dataframe thead th {\n",
       "        text-align: right;\n",
       "    }\n",
       "</style>\n",
       "<table border=\"1\" class=\"dataframe\">\n",
       "  <thead>\n",
       "    <tr style=\"text-align: right;\">\n",
       "      <th></th>\n",
       "      <th>no</th>\n",
       "      <th>title</th>\n",
       "      <th>types</th>\n",
       "      <th>level_type</th>\n",
       "      <th>limit_time</th>\n",
       "    </tr>\n",
       "  </thead>\n",
       "  <tbody>\n",
       "    <tr>\n",
       "      <th>0</th>\n",
       "      <td>1</td>\n",
       "      <td>두 수의 합</td>\n",
       "      <td>[MATHEMATICS]</td>\n",
       "      <td>LEVEL1</td>\n",
       "      <td>40</td>\n",
       "    </tr>\n",
       "    <tr>\n",
       "      <th>1</th>\n",
       "      <td>2</td>\n",
       "      <td>가장 큰 수</td>\n",
       "      <td>[SORT]</td>\n",
       "      <td>LEVEL2</td>\n",
       "      <td>50</td>\n",
       "    </tr>\n",
       "    <tr>\n",
       "      <th>2</th>\n",
       "      <td>3</td>\n",
       "      <td>H-Index</td>\n",
       "      <td>[SORT]</td>\n",
       "      <td>LEVEL3</td>\n",
       "      <td>40</td>\n",
       "    </tr>\n",
       "    <tr>\n",
       "      <th>3</th>\n",
       "      <td>4</td>\n",
       "      <td>369게임</td>\n",
       "      <td>[STRING]</td>\n",
       "      <td>LEVEL1</td>\n",
       "      <td>30</td>\n",
       "    </tr>\n",
       "    <tr>\n",
       "      <th>4</th>\n",
       "      <td>5</td>\n",
       "      <td>피타고라스의 수</td>\n",
       "      <td>[GRAPH]</td>\n",
       "      <td>LEVEL1</td>\n",
       "      <td>40</td>\n",
       "    </tr>\n",
       "    <tr>\n",
       "      <th>5</th>\n",
       "      <td>6</td>\n",
       "      <td>전화번호 유형</td>\n",
       "      <td>[STRING]</td>\n",
       "      <td>LEVEL1</td>\n",
       "      <td>30</td>\n",
       "    </tr>\n",
       "    <tr>\n",
       "      <th>6</th>\n",
       "      <td>7</td>\n",
       "      <td>다음 숫자</td>\n",
       "      <td>[SORT, STRING]</td>\n",
       "      <td>LEVEL1</td>\n",
       "      <td>30</td>\n",
       "    </tr>\n",
       "    <tr>\n",
       "      <th>7</th>\n",
       "      <td>8</td>\n",
       "      <td>시간 표시 바꾸기</td>\n",
       "      <td>[SORT, ARRAY]</td>\n",
       "      <td>LEVEL2</td>\n",
       "      <td>40</td>\n",
       "    </tr>\n",
       "    <tr>\n",
       "      <th>8</th>\n",
       "      <td>26</td>\n",
       "      <td>a 와 z</td>\n",
       "      <td>[STACK, STRING]</td>\n",
       "      <td>LEVEL4</td>\n",
       "      <td>50</td>\n",
       "    </tr>\n",
       "    <tr>\n",
       "      <th>9</th>\n",
       "      <td>31</td>\n",
       "      <td>예산(budget)</td>\n",
       "      <td>[MATHEMATICS, STRING]</td>\n",
       "      <td>LEVEL5</td>\n",
       "      <td>50</td>\n",
       "    </tr>\n",
       "  </tbody>\n",
       "</table>\n",
       "</div>"
      ],
      "text/plain": [
       "   no       title                  types level_type limit_time\n",
       "0   1      두 수의 합          [MATHEMATICS]     LEVEL1         40\n",
       "1   2      가장 큰 수                 [SORT]     LEVEL2         50\n",
       "2   3     H-Index                 [SORT]     LEVEL3         40\n",
       "3   4       369게임               [STRING]     LEVEL1         30\n",
       "4   5    피타고라스의 수                [GRAPH]     LEVEL1         40\n",
       "5   6     전화번호 유형               [STRING]     LEVEL1         30\n",
       "6   7       다음 숫자         [SORT, STRING]     LEVEL1         30\n",
       "7   8   시간 표시 바꾸기          [SORT, ARRAY]     LEVEL2         40\n",
       "8  26       a 와 z        [STACK, STRING]     LEVEL4         50\n",
       "9  31  예산(budget)  [MATHEMATICS, STRING]     LEVEL5         50"
      ]
     },
     "execution_count": 3,
     "metadata": {},
     "output_type": "execute_result"
    }
   ],
   "source": [
    "df"
   ]
  },
  {
   "cell_type": "code",
   "execution_count": 4,
   "metadata": {},
   "outputs": [],
   "source": [
    "arr = df.to_numpy()"
   ]
  },
  {
   "cell_type": "code",
   "execution_count": 41,
   "metadata": {},
   "outputs": [
    {
     "data": {
      "text/plain": [
       "'30'"
      ]
     },
     "execution_count": 41,
     "metadata": {},
     "output_type": "execute_result"
    }
   ],
   "source": [
    "arr[6][4]"
   ]
  },
  {
   "cell_type": "code",
   "execution_count": 6,
   "metadata": {},
   "outputs": [
    {
     "data": {
      "text/plain": [
       "0.5"
      ]
     },
     "execution_count": 6,
     "metadata": {},
     "output_type": "execute_result"
    }
   ],
   "source": [
    "def compare_types(idx1, idx2):\n",
    "    '''\n",
    "    문제 유형의 유사도를 구하는 함수\n",
    "    idx1 : 이미 푼 문제 index\n",
    "    idx2 : 아직 안 푼 문제 index\n",
    "    return : 동일한 유형의 포함 비율 (0~1)\n",
    "    '''\n",
    "    q1 = set(arr[idx1][2]) # 비교 연산을 위해 set 형태로 변환\n",
    "    q2 = set(arr[idx2][2])\n",
    "    return len(set.intersection(q1,q2)) / len(q2)\n",
    "\n",
    "compare_types(5,6)"
   ]
  },
  {
   "cell_type": "code",
   "execution_count": 45,
   "metadata": {},
   "outputs": [
    {
     "data": {
      "text/plain": [
       "0.75"
      ]
     },
     "execution_count": 45,
     "metadata": {},
     "output_type": "execute_result"
    }
   ],
   "source": [
    "def compare_level_type(idx1, idx2):\n",
    "    '''\n",
    "    레벨 유사도를 구하는 함수\n",
    "    idx1 : 이미 푼 문제 index\n",
    "    idx2 : 아직 안 푼 문제 index\n",
    "    return : 레벨 유사도 (0~1)\n",
    "    '''\n",
    "    str1 = 'test123'\n",
    "    q1 = int([q for q in arr[idx1][3] if str.isdigit(q)][0]) # string에서 숫자만 추출\n",
    "    q2 = int([q for q in arr[idx2][3] if str.isdigit(q)][0])\n",
    "    diff = (4 - abs(q1 - q2))/4 # 차의 절대값 0~4\n",
    "    return diff\n",
    "\n",
    "compare_level_type(0,1)"
   ]
  },
  {
   "cell_type": "code",
   "execution_count": 47,
   "metadata": {},
   "outputs": [
    {
     "data": {
      "text/plain": [
       "0.0"
      ]
     },
     "execution_count": 47,
     "metadata": {},
     "output_type": "execute_result"
    }
   ],
   "source": [
    "def compare_limit_time(idx1, idx2):\n",
    "    '''\n",
    "    제한 시간 유사도 구하는 함수\n",
    "    return : 시간 유사도 (0~1) ; 값이 높을 수록 유사도가 높음.\n",
    "    '''\n",
    "    q1 = arr[idx1][4]\n",
    "    q2 = arr[idx2][4]\n",
    "    deff = (20 - abs(int(q1) - int(q2)))/20 # 시간 차이가 0~20이기 때문에 차에서 20을 나눔\n",
    "    return deff\n",
    "\n",
    "compare_limit_time(3,1)"
   ]
  },
  {
   "cell_type": "code",
   "execution_count": null,
   "metadata": {},
   "outputs": [],
   "source": [
    "def predict_passrate(qid1,passrate,qid2):\n",
    "    '''\n",
    "    TC통과율 예측 함수\n",
    "    이미 푼 문제1의 ID와 TC 통과율을 입력하면, 문제2에 대한 TC통과율을 반환한다.\n",
    "    return : q2 passrate\n",
    "    '''\n",
    "    qid1"
   ]
  },
  {
   "cell_type": "code",
   "execution_count": 24,
   "metadata": {},
   "outputs": [
    {
     "data": {
      "text/plain": [
       "['1', '2', '3']"
      ]
     },
     "execution_count": 24,
     "metadata": {},
     "output_type": "execute_result"
    }
   ],
   "source": [
    "a='123abc'\n",
    "\n",
    "#result=int(filter(str.isdigit,a))\n",
    "result = [c for c in a if str.isdigit(c)]\n",
    "result"
   ]
  },
  {
   "cell_type": "code",
   "execution_count": null,
   "metadata": {},
   "outputs": [],
   "source": [
    "def preprocessing(한줄):\n",
    "    사용되는 feature는 문제 유형, 레벨, 제한시간 총 3가지.\n",
    "    문제 유형은 one-hot encoding으로 변환\n",
    "    레벨은 그대로 1,2,3,4,5로 사용\n",
    "    제한 시간도 그대로 사용\n",
    "    return 한줄\n",
    "\n",
    "def predict(UID, QID):\n",
    "    인풋: feature\n",
    "    아웃풋: 점수\n",
    "    pass\n",
    "\n",
    "types*a + level_type*b + limit_time*c = 통과율\n"
   ]
  },
  {
   "cell_type": "code",
   "execution_count": null,
   "metadata": {},
   "outputs": [],
   "source": [
    "if 해당 문제에 대한 점수가 이미 있는 경우:\n",
    "    기존 passrate 그대로 return\n",
    "else(해당 문제에 대한 점수가 없는 경우):\n",
    "    if 다른 한 문제에 대한 점수가 있는 경우:\n",
    "        점수가 있는 문제와 해당 문제와의 유사도를 통해 linear regression 모델로 예측\n",
    "        linear regression모델에서는 input으로 점수가 있는 한 모델 id\n",
    "    else (아예 점수 자체가 없는 경우):\n",
    "        점수를 산출할 수 없으므로 -> 기본 passrate? 평균 passrate를 return\n",
    "        "
   ]
  }
 ],
 "metadata": {
  "kernelspec": {
   "display_name": "Python 3",
   "language": "python",
   "name": "python3"
  },
  "language_info": {
   "codemirror_mode": {
    "name": "ipython",
    "version": 3
   },
   "file_extension": ".py",
   "mimetype": "text/x-python",
   "name": "python",
   "nbconvert_exporter": "python",
   "pygments_lexer": "ipython3",
   "version": "3.7.6"
  }
 },
 "nbformat": 4,
 "nbformat_minor": 4
}
